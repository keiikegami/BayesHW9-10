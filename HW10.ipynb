{
 "cells": [
  {
   "cell_type": "code",
   "execution_count": 1,
   "metadata": {},
   "outputs": [],
   "source": [
    "import pandas as pd\n",
    "import numpy as np\n",
    "import matplotlib.pyplot as plt\n",
    "% matplotlib inline"
   ]
  },
  {
   "cell_type": "code",
   "execution_count": 10,
   "metadata": {},
   "outputs": [],
   "source": [
    "def FFBS(nsim, vy, mF, vV, amG, amW, vm0, mC0):\n",
    "    \n",
    "    T, p = vy.shape[0], mF.shape[0]\n",
    "    ma = np.zeros((T, p))\n",
    "    mm = np.zeros((T, p))\n",
    "    mb = np.zeros((T, p))\n",
    "    amR = [np.eye(p)]*T\n",
    "    amC = [np.eye(p)]*T\n",
    "    amb = [0]*T\n",
    "    \n",
    "    vm = vm0\n",
    "    mC = mC0\n",
    "    \n",
    "    # ff loop\n",
    "    for t in range(T):\n",
    "        \n",
    "        if t > 0:\n",
    "            vm = mm[t-1,:].reshape([p, 1])\n",
    "            mC = amC[t-1]\n",
    "            \n",
    "        currentF = mF[:, t].reshape([1, p])\n",
    "        \n",
    "        ma[t, :] = np.dot(vm.T, amG[t])\n",
    "        amR[t] = np.dot(np.dot(amG[t], mC), amG[t].T) + amW[t]\n",
    "        dq = np.dot(np.dot(currentF, amR[t]), currentF.T) + vV[t]\n",
    "        mA = np.divide(np.dot(currentF, amR[t]), dq)\n",
    "\n",
    "        m = np.dot(vm.T, amG[t]) + np.multiply(mA, vy[t] - np.dot(currentF, np.dot(vm.T, amG[t]).T))\n",
    "        mm[t, :] = m\n",
    "        \n",
    "        C = amR[t] - np.multiply(np.dot(mA.T, mA), dq)\n",
    "        amC[t] = C\n",
    "    \n",
    "    # BS loop\n",
    "    C_float = C.astype(np.float64)\n",
    "    if m.ndim == 1:\n",
    "        mb = np.random.normal(m.astype(np.float64), np.sqrt(C_float), size = nsim)\n",
    "    else:\n",
    "        mb = np.random.multivariate_normal(m[0].astype(np.float64), C_float, size = nsim)\n",
    "        \n",
    "    amb[T-1] = mb\n",
    "    \n",
    "    for t in reversed(range(T-1)):           \n",
    "        if m.ndim == 1:\n",
    "            mB = np.dot(np.dot(amC[t], amG[t+1].T), 1/amR[t+1].astype(np.float64))\n",
    "            mH = amC[t] - [mB[0]**2*amR[t+1][0]]\n",
    "            mean = mm[t, :] + (mb - ma[t+1, :])*mB\n",
    "            H_float = mH.astype(np.float64)\n",
    "            mb = mean.astype(np.float64) + np.random.normal(np.zeros(p), np.sqrt(H_float), size = nsim)\n",
    "            \n",
    "        else:\n",
    "            mB = np.dot(np.dot(amC[t], amG[t+1].T), np.linalg.inv(amR[t+1].astype(np.float64)))\n",
    "            mH = amC[t]- np.dot(np.dot(mB, amR[t+1]), mB.T)\n",
    "            mean = mm[t, :] + np.dot((mb - ma[t+1, :]), mB.T)\n",
    "            H_float = mH.astype(np.float64)\n",
    "            mb = mean.astype(np.float64) + np.random.multivariate_normal(np.zeros(p), H_float, size = nsim)\n",
    "            \n",
    "        amb[t] = mb\n",
    "        \n",
    "    return amb"
   ]
  },
  {
   "cell_type": "code",
   "execution_count": 15,
   "metadata": {},
   "outputs": [],
   "source": [
    "np.random.seed(12345)\n",
    "# prepare\n",
    "vy = pd.read_csv(\"sv_simdata10.csv\").values[0][1:]\n",
    "nT = vy.shape[0]\n",
    "vy_star = np.array([np.log(i**2) for i in vy])\n",
    "nsim = 500\n",
    "nburn = 1000\n",
    "dC0 = 2\n",
    "\n",
    "# priors\n",
    "## mu\n",
    "dmm = 0\n",
    "dCm = 1\n",
    "## phi\n",
    "dmp = 0.9\n",
    "dCp = 0.1\n",
    "## sigma\n",
    "da0 = 0.1\n",
    "db0 = 0.1\n",
    "\n",
    "# mixture setup\n",
    "nK = 10\n",
    "vp_mix = [0.00609, 0.04775, 0.13057,0.20674,0.22715,0.18842,0.12047,0.05591,0.01575,0.00115]\n",
    "vm_mix = [1.92677,1.34744,0.73504,0.02266,-0.85173,-1.97278,-3.46788,-5.55246,-8.68384,-14.65000]\n",
    "vv2_mix = [0.11265,0.17788,0.26768,0.40611,0.62699,0.98583,1.57469,2.54498,4.16591,7.33342]\n",
    "\n",
    "# initial values\n",
    "dmu = dmm + np.sqrt(dCm) * np.random.normal()\n",
    "while True:\n",
    "    dphi = np.random.normal(loc = dmp, scale = np.sqrt(dCp))\n",
    "    if abs(dphi) < 1:\n",
    "        break\n",
    "dsig2 = 1/np.random.gamma(da0, db0)\n",
    "vs = np.random.choice(len(vp_mix), nT, p=vp_mix)\n",
    "\n",
    "amG = [np.array([dphi])]*nT\n",
    "amW = [np.array([dsig2])]*nT\n",
    "mF = np.ones((1, nT))\n",
    "mh = np.zeros((nsim, nT + 1))\n",
    "vphi = np.zeros(nsim)\n",
    "vmu = np.zeros(nsim)\n",
    "vsig2 = np.zeros(nsim)"
   ]
  },
  {
   "cell_type": "code",
   "execution_count": null,
   "metadata": {},
   "outputs": [],
   "source": [
    "# MCMC\n",
    "for i in range(nsim):\n",
    "    \n",
    "    # FFBS part\n",
    "    vy_star2 = vy_star - dmu - np.array([vm_mix[j] for j in vs])\n",
    "    vV = np.array([vv2_mix[j] for j in vs])\n",
    "    amG = [np.array([dphi])]*nT\n",
    "    amW = [np.array([dsig2])]*nT\n",
    "    vh_star = FFBS(nsim,vy_star2,mF,vV,amG,amW,np.array([0]),dC0*dsig2)\n",
    "    \n",
    "    # posterior for h_0^star\n",
    "    vhstar0 = np.random.normal(vh_star[0]*dphi*dC0/(dphi**2 * dC0 + 1), np.sqrt(dsig2 * dC0/(dphi**2 * dC0 + 1)))\n",
    "    vh_star = [np.array([[vhstar0]])]+vh_star\n",
    "    \n",
    "    vhstar2 = [0]*(nT+1)\n",
    "    for t in range(nT+1):\n",
    "        vhstar2[t] = np.mean(vh_star[t])\n",
    "    \n",
    "    vh_star = vhstar2\n",
    "\n",
    "    # sampling phi\n",
    "    # S2が小さすぎる→FFBSの部分は一回のサンプリングで良い？\n",
    "    S1 = np.sum([vh_star[i]**2 for i in range(0, nT)])\n",
    "    S2 = np.sum([vh_star[i]*vh_star[i-1] for i in range(1, nT+1)])\n",
    "    alpha = S2/S1\n",
    "    beta2 = dsig2/S1\n",
    "    dmphi = (alpha * dCp + dmp * beta2)/(beta2 + dCp)\n",
    "    dCphi = beta2*dCp/(beta2 + dCp)\n",
    "    dphi = np.random.normal(loc = dmphi, scale = np.sqrt(dCphi))\n",
    "    \n",
    "    # sampling sigma\n",
    "    S3 = np.sum([(vh_star[i] - dphi*vh_star[i-1])**2 for i in range(1, nT+1)])\n",
    "    da = (nT + 1)/2 + da0\n",
    "    db = 1/(db0 + S3/2)\n",
    "    dsig2 = 1/np.random.gamma(shape = da, scale = db)\n",
    "    \n",
    "    # sampling mu\n",
    "    vh = [i + dmu for i in vh_star]\n",
    "    S4 = np.sum([vh[i] - dphi*vh[i-1] for i in range(1, nT+1)])\n",
    "    delta = (vh[0] + dC0*(1-dphi)*S4)/(1 + dC0*nT*(1-dphi)**2)\n",
    "    eta2 = dsig2*dC0/(1 + dC0*nT*(1-dphi)**2)\n",
    "    dmmu = (delta * dCm + dmm * eta2)/(dCm + eta2)\n",
    "    dCmu = dCm * eta2 / (dCm + eta2)\n",
    "    dmu = np.random.normal(loc = dmmu, scale = np.sqrt(dCmu))\n",
    "    \n",
    "    # sampling latent\n",
    "    vy_star2 = vy_star - dmu - np.array([vm_mix[j] for j in vs])\n",
    "    for t in range(1, nT):\n",
    "        vp = [vp_mix[k] * np.exp(-(vy_star2[t] - vh_star[t])**2/(2 * vv2_mix[k])) for k in range(nK)]\n",
    "        newvp = [p/sum(vp) for p in vp]\n",
    "        vs[t] = np.random.choice(len(newvp), 1, p=newvp)\n",
    "        \n",
    "    # store\n",
    "    if i >= 0:\n",
    "        vh = [i + dmu for i in vh_star]\n",
    "        mh[i][:] = vh\n",
    "        vphi[i] = dphi\n",
    "        vmu[i] = dmu\n",
    "        vsig2[i] = dsig2"
   ]
  },
  {
   "cell_type": "code",
   "execution_count": 5,
   "metadata": {},
   "outputs": [
    {
     "data": {
      "text/plain": [
       "[<matplotlib.lines.Line2D at 0x115b2e9b0>]"
      ]
     },
     "execution_count": 5,
     "metadata": {},
     "output_type": "execute_result"
    },
    {
     "data": {
      "image/png": "[encoded data removed]",
      "text/plain": [
       "<Figure size 432x288 with 1 Axes>"
      ]
     },
     "metadata": {
      "needs_background": "light"
     },
     "output_type": "display_data"
    }
   ],
   "source": [
    "truephi = np.ones(nsim)*0.97\n",
    "plt.figure(figsize=(20, 10))\n",
    "plt.plot(vphi)\n",
    "plt.plot(truephi)\n",
    "plt.show()"
   ]
  },
  {
   "cell_type": "code",
   "execution_count": 7,
   "metadata": {},
   "outputs": [
    {
     "data": {
      "text/plain": [
       "[<matplotlib.lines.Line2D at 0x1174e3390>]"
      ]
     },
     "execution_count": 7,
     "metadata": {},
     "output_type": "execute_result"
    },
    {
     "data": {
      "image/png": "[encoded data removed]",
      "text/plain": [
       "<Figure size 432x288 with 1 Axes>"
      ]
     },
     "metadata": {
      "needs_background": "light"
     },
     "output_type": "display_data"
    }
   ],
   "source": [
    "truemu = np.ones(nsim)*2*np.log(0.65)\n",
    "plt.figure(figsize=(20, 10)) \n",
    "plt.plot(vmu)\n",
    "plt.plot(truemu)\n",
    "plt.show()"
   ]
  },
  {
   "cell_type": "code",
   "execution_count": 8,
   "metadata": {},
   "outputs": [
    {
     "data": {
      "text/plain": [
       "[<matplotlib.lines.Line2D at 0x117843780>]"
      ]
     },
     "execution_count": 8,
     "metadata": {},
     "output_type": "execute_result"
    },
    {
     "data": {
      "image/png": "[encoded data removed]",
      "text/plain": [
       "<Figure size 432x288 with 1 Axes>"
      ]
     },
     "metadata": {
      "needs_background": "light"
     },
     "output_type": "display_data"
    }
   ],
   "source": [
    "truesig = np.ones(nsim)/0.15**2\n",
    "plt.figure(figsize=(20, 10)) \n",
    "plt.plot(vsig2[10:])\n",
    "plt.plot(truesig[10:])\n",
    "plt.show()"
   ]
  },
  {
   "cell_type": "code",
   "execution_count": 9,
   "metadata": {},
   "outputs": [],
   "source": [
    "df = pd.read_csv(\"sv_truevol10.csv\")\n",
    "truevol = df.values[0][1:]\n",
    "\n",
    "result = np.zeros(nT)\n",
    "for t in range(nT):\n",
    "    result[t] = np.mean(mh[10:, t])\n",
    "\n",
    "plt.figure(figsize=(20, 10)) \n",
    "plt.plot(result)\n",
    "plt.plot(truevol)\n",
    "plt.ylim(-2.5, 10)\n",
    "plt.show()"
   ]
  },
  {
   "cell_type": "code",
   "execution_count": null,
   "metadata": {},
   "outputs": [],
   "source": []
  }
 ],
 "metadata": {
  "kernelspec": {
   "display_name": "Python 3",
   "language": "python",
   "name": "python3"
  },
  "language_info": {
   "codemirror_mode": {
    "name": "ipython",
    "version": 3
   },
   "file_extension": ".py",
   "mimetype": "text/x-python",
   "name": "python",
   "nbconvert_exporter": "python",
   "pygments_lexer": "ipython3",
   "version": "3.7.0"
  }
 },
 "nbformat": 4,
 "nbformat_minor": 2
}
